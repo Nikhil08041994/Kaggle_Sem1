{
  "nbformat": 4,
  "nbformat_minor": 0,
  "metadata": {
    "colab": {
      "name": "SVM_implementation.ipynb",
      "provenance": []
    },
    "kernelspec": {
      "name": "python3",
      "display_name": "Python 3"
    }
  },
  "cells": [
    {
      "cell_type": "code",
      "metadata": {
        "id": "YmLjcnpkWJH_"
      },
      "source": [
        "import numpy as np\r\n",
        "\r\n",
        "class SVM:\r\n",
        "    def __init__(self):\r\n",
        "        pass\r\n",
        "\r\n",
        "    \r\n",
        "    def fit(self):\r\n",
        "        # Convert y classes to +1, -1\r\n",
        "        bi_y = np.zeros((len(self.y), 1))\r\n",
        "        negative_class = self.classes[0]\r\n",
        "        positive_class = self.classes[1]\r\n",
        "        for i in range(0, len(self.y)):\r\n",
        "            if self.y[i] == negative_class:\r\n",
        "                bi_y[i] = -1\r\n",
        "            elif self.y[i] == positive_class:\r\n",
        "                bi_y[i] = 1\r\n",
        "\r\n",
        "        # Add weight to X for stochastic gradient descent\r\n",
        "        X_weight = np.empty((len(self.X), 1))\r\n",
        "        X_weight.fill(-1)\r\n",
        "        weighted_X = np.append(self.X, X_weight, axis=1)\r\n",
        "        \r\n",
        "        #Initialize our SVMs weight vector with zeros\r\n",
        "        weight_vector = np.zeros(len(weighted_X[0]))\r\n",
        "        #The learning rate\r\n",
        "        LR = 1\r\n",
        "        # training iteration\r\n",
        "        iterations = 10000\r\n",
        "\r\n",
        "        # implementing Stochastic Gradient Descent\r\n",
        "        for iteration in range(1, iterations):\r\n",
        "            for i, x in enumerate(self.X):\r\n",
        "                # missclassification condition\r\n",
        "                if (bi_y[i] * np.dot(weighted_X[i], weight_vector)) < 1:\r\n",
        "                    # updating wights when missclassified\r\n",
        "                    weight_vector = weight_vector + LR * ((weighted_X[i] * bi_y[i]) + (-2 * (1/iteration) * weight_vector))\r\n",
        "                else:\r\n",
        "                    # updatig weight when correctly classified\r\n",
        "                    weight_vector = weight_vector + LR * (-2 * (1/iteration) * weight_vector)\r\n",
        "        self.w = weight_vector[:-1]\r\n",
        "        self.b = weight_vector[-1]\r\n",
        "\r\n",
        "    \r\n",
        "    def predict(self, feature):\r\n",
        "        # predict wheather faeture belogs to a class or not\r\n",
        "        result = np.sign(np.dot(self.w, np.array(feature)) - self.b)\r\n",
        "        if result == -1:\r\n",
        "            # doesnot belong\r\n",
        "            return self.classes[0]\r\n",
        "        elif result == 1:\r\n",
        "            # belongs\r\n",
        "            return self.classes[1]\r\n",
        "        else: return \"Error\"\r\n",
        "    \r\n",
        "    def trainSVM(self, X, y):\r\n",
        "        self.X = X\r\n",
        "        self.y = y\r\n",
        "        self.classes = np.unique(y)\r\n",
        "        self.fit()"
      ],
      "execution_count": null,
      "outputs": []
    }
  ]
}